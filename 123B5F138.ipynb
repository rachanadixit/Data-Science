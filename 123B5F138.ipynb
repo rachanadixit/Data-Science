{
 "cells": [
  {
   "cell_type": "code",
   "execution_count": 23,
   "id": "ed04865b-4fbe-412d-8af5-af088709f2a0",
   "metadata": {},
   "outputs": [
    {
     "data": {
      "text/plain": [
       "{'name': 'Rachana', 'age': 17, 'city': 'Pune'}"
      ]
     },
     "execution_count": 23,
     "metadata": {},
     "output_type": "execute_result"
    }
   ],
   "source": [
    "def merge_tuples_to_dict(keys, data):\n",
    "    if len(keys) != len(data):\n",
    "     raise dataError(\"The number of keys and values must be equal.\")\n",
    "    \n",
    "    merged_dict = dict(zip(keys, data))\n",
    "    return merged_dict\n",
    "\n",
    "\n",
    "keys = ('name', 'age', 'city')\n",
    "data = ('Rachana', 17, 'Pune')\n",
    "result = merge_tuples_to_dict(keys, values)\n",
    "result"
   ]
  },
  {
   "cell_type": "code",
   "execution_count": 21,
   "id": "f9b84661-a605-4fae-86ba-faa6c7e4bb59",
   "metadata": {},
   "outputs": [
    {
     "name": "stdout",
     "output_type": "stream",
     "text": [
      "The list after append() operation is:  [1, 2, 3, 4, 5]\n",
      "The list after axtend() operator is:  [1, 2, 3, 4, 5, 6, 7]\n",
      "The list after insert() operator is: \n",
      " [1, 2, 3, 4, 5, 6, 7, 8]\n",
      "The list after remove() operator is: \n",
      " [1, 2, 3, 4, 6, 7, 8]\n",
      "The list after pop() operator is:\n",
      " [1, 2, 3, 4, 6, 7]\n",
      "The elements of list in the range of 1 to 3 are:\n",
      " [2, 3]\n"
     ]
    }
   ],
   "source": [
    "list=[1,2,3]\n",
    "list.append(4)\n",
    "list.append(5)\n",
    "print(\"The list after append() operation is: \",list)\n",
    "list.extend([6,7])\n",
    "print(\"The list after axtend() operator is: \",list)\n",
    "list.insert(7,8)\n",
    "print(\"The list after insert() operator is: \\n\",list)\n",
    "list.remove(5)\n",
    "print(\"The list after remove() operator is: \\n\",list)\n",
    "list.pop()\n",
    "print(\"The list after pop() operator is:\\n\",list)\n",
    "print(\"The elements of list in the range of 1 to 3 are:\\n\",list[1:3])"
   ]
  },
  {
   "cell_type": "code",
   "execution_count": 22,
   "id": "72d2412a-a41e-4abe-b28f-83c8cc9be797",
   "metadata": {},
   "outputs": [
    {
     "name": "stdout",
     "output_type": "stream",
     "text": [
      "reverse order ['hell0', 'rachana', 'coding']\n"
     ]
    }
   ],
   "source": [
    "list=['coding','rachana','hell0']\n",
    "list.reverse()\n",
    "print(\"reverse order\",list)"
   ]
  },
  {
   "cell_type": "code",
   "execution_count": 52,
   "id": "112d77bd-638a-4260-948d-675fa64ec51d",
   "metadata": {},
   "outputs": [
    {
     "name": "stdout",
     "output_type": "stream",
     "text": [
      "The second largest number is: 60\n"
     ]
    }
   ],
   "source": [
    "def second_largest(numbers):\n",
    "    if len(numbers) < 2:\n",
    "        return \"List must contain at least two distinct elements.\"\n",
    "\n",
    "    first = second = float('-inf')  \n",
    "\n",
    "    for number in numbers:\n",
    "        if number > first:\n",
    "            second = first  \n",
    "            first = number   \n",
    "        elif first > number > second:\n",
    "            second = number  \n",
    "\n",
    "    if second == float('-inf'):\n",
    "        return \"There is no second largest number (all elements may be the same).\"\n",
    "\n",
    "    return second\n",
    "\n",
    "# Example usage\n",
    "numbers_list = [12, 24, 36, 48, 60, 72]\n",
    "second_largest = second_largest(numbers_list)\n",
    "print(\"The second largest number is:\", second_largest)"
   ]
  },
  {
   "cell_type": "code",
   "execution_count": 63,
   "id": "b5c8402f-3e18-47c3-99c1-92da298c458e",
   "metadata": {},
   "outputs": [
    {
     "name": "stdout",
     "output_type": "stream",
     "text": [
      "'rachana': 1\n",
      "'dixit': 2\n",
      "'sonali': 1\n"
     ]
    }
   ],
   "source": [
    "def word_frequency(input_string):\n",
    "    words = input_string.lower().split()\n",
    "    word_frequency = {}\n",
    "\n",
    "    for word in words:\n",
    "        word_frequency[word] = word_frequency.get(word, 0) + 1\n",
    "        \n",
    "    return word_frequency\n",
    "\n",
    "\n",
    "input_string = \"Rachana Dixit Sonali Dixit\"\n",
    "frequency = count_word_frequency(input_string)\n",
    "\n",
    "\n",
    "for word, count in frequency.items():\n",
    "    print(f\"'{word}': {count}\")"
   ]
  },
  {
   "cell_type": "code",
   "execution_count": 72,
   "id": "dc8efd16-09ed-4e1c-98cf-a25a08321b25",
   "metadata": {},
   "outputs": [
    {
     "name": "stdin",
     "output_type": "stream",
     "text": [
      "Enter Your String :  RACHANA DIXIT AND SONALI DIXIT\n"
     ]
    },
    {
     "name": "stdout",
     "output_type": "stream",
     "text": [
      "Frequency of  RACHANA : 1 \n",
      "Frequency of  DIXIT : 2 \n",
      "Frequency of  AND : 1 \n",
      "Frequency of  SONALI : 1 \n"
     ]
    }
   ],
   "source": [
    "def count(elements):\n",
    "    if elements[-1] == '.':\n",
    "        elements = elements[0:len(elements) - 1]\n",
    "\n",
    "\n",
    "    if elements in dictionary:\n",
    "        dictionary[elements] += 1\n",
    "\n",
    "    else:\n",
    "        dictionary.update({elements: 1})\n",
    "\n",
    "\n",
    "Sentence = input(\"Enter Your String : \")\n",
    "\n",
    "\n",
    "dictionary = {}\n",
    "\n",
    "lst = Sentence.split()\n",
    "\n",
    "for elements in lst:\n",
    "    count(elements)\n",
    "\n",
    "\n",
    "for allKeys in dictionary:\n",
    "    print (\"Frequency of \", allKeys, end = \" \")\n",
    "    print (\":\", end = \" \")\n",
    "    print (dictionary[allKeys], end = \" \")\n",
    "    print()"
   ]
  },
  {
   "cell_type": "code",
   "execution_count": null,
   "id": "f45c9aa9-8dc0-4da8-87d4-45a931755c11",
   "metadata": {},
   "outputs": [],
   "source": []
  }
 ],
 "metadata": {
  "kernelspec": {
   "display_name": "Python 3 (ipykernel)",
   "language": "python",
   "name": "python3"
  },
  "language_info": {
   "codemirror_mode": {
    "name": "ipython",
    "version": 3
   },
   "file_extension": ".py",
   "mimetype": "text/x-python",
   "name": "python",
   "nbconvert_exporter": "python",
   "pygments_lexer": "ipython3",
   "version": "3.11.7"
  }
 },
 "nbformat": 4,
 "nbformat_minor": 5
}
