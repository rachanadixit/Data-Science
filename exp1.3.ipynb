{
 "cells": [
  {
   "cell_type": "code",
   "execution_count": null,
   "id": "08a63e1e-a70f-48e8-98e3-bf1fae59cebb",
   "metadata": {},
   "outputs": [],
   "source": [
    "n=int(input(\"Enter a number\"))\n",
    "if(n<0):\n",
    "    print(\"number is negative\")\n",
    "elif(n>0):\n",
    "    for i in range (2,n):\n",
    "        if (n%i==0):\n",
    "            print(\"it is not a prime no.\")\n",
    "            break\n",
    "    else: print(\"it is  a prime no.\") \n",
    "    \n"
   ]
  },
  {
   "cell_type": "code",
   "execution_count": 33,
   "id": "3aeba0ac-b5cd-448e-94d8-affdd2674cd1",
   "metadata": {},
   "outputs": [
    {
     "name": "stdin",
     "output_type": "stream",
     "text": [
      "Enter a number -2\n"
     ]
    },
    {
     "name": "stdout",
     "output_type": "stream",
     "text": [
      "the number is negative\n"
     ]
    }
   ],
   "source": [
    "n=int(input(\"Enter a number\"))\n",
    "if(n==0):\n",
    "    print(\"the number is zero\")\n",
    "elif(n>0):\n",
    "    print(\"the number is positive\")\n",
    "else:\n",
    "    print(\"the number is negative\")\n",
    "    "
   ]
  },
  {
   "cell_type": "code",
   "execution_count": 35,
   "id": "d5d0e262-d7d7-4c2b-9b3f-b02c8517ab02",
   "metadata": {},
   "outputs": [
    {
     "name": "stdin",
     "output_type": "stream",
     "text": [
      "Enter a number 10\n"
     ]
    },
    {
     "name": "stdout",
     "output_type": "stream",
     "text": [
      "0\n",
      "1\n",
      "1\n",
      "2\n",
      "3\n",
      "5\n",
      "8\n",
      "13\n",
      "21\n",
      "34\n"
     ]
    }
   ],
   "source": [
    "n=int(input(\"Enter a number\"))\n",
    "num1=0\n",
    "num2=1\n",
    "num3=1\n",
    "print(num1)\n",
    "print(num2)\n",
    "print(num3)\n",
    "for i in range(3,n):\n",
    "    num1=num2\n",
    "    num2=num3\n",
    "    num3=num1+num2\n",
    "    print(num3)\n",
    "\n"
   ]
  },
  {
   "cell_type": "code",
   "execution_count": 48,
   "id": "9d08fc62-eaee-4534-84f1-a152fb2f74e1",
   "metadata": {},
   "outputs": [
    {
     "name": "stdin",
     "output_type": "stream",
     "text": [
      "enter the value of r 10\n"
     ]
    },
    {
     "name": "stdout",
     "output_type": "stream",
     "text": [
      "area of circle 314.0\n"
     ]
    }
   ],
   "source": [
    "def area(r):\n",
    "    area= 3.14*r*r\n",
    "   \n",
    "    print(\"area of circle\",area)\n",
    "r=int(input(\"enter the value of r\"))\n",
    "    \n",
    "area(r)    \n"
   ]
  },
  {
   "cell_type": "code",
   "execution_count": 57,
   "id": "565240dc-565b-43bf-a440-7b5a677cf10c",
   "metadata": {},
   "outputs": [
    {
     "name": "stdin",
     "output_type": "stream",
     "text": [
      "Enter the elements in List: 5\n",
      "Enter the elements in List: 2\n",
      "Enter the elements in List: 4\n",
      "Enter the elements in List: 6\n",
      "Enter the elements in List: 8\n",
      "Enter the elements in List: 0\n"
     ]
    },
    {
     "name": "stdout",
     "output_type": "stream",
     "text": [
      "the largest element i: 8\n"
     ]
    }
   ],
   "source": [
    "List=[]\n",
    "n=int(input(\"Enter the elements in List:\"))\n",
    "for i in range(1,n+1):\n",
    "    element = int(input(\"Enter the elements in List:\"))\n",
    "    List.append(element)\n",
    "def largest_number(List):\n",
    "    List.sort()\n",
    "    print(\"the largest element i:\",List[-1])\n",
    "largest_number(List)\n",
    "                  \n",
    "            \n",
    "            \n",
    "       \n",
    "    "
   ]
  },
  {
   "cell_type": "code",
   "execution_count": 58,
   "id": "c2f4f786-299f-4483-9e66-b4aace87ebda",
   "metadata": {},
   "outputs": [
    {
     "name": "stdin",
     "output_type": "stream",
     "text": [
      "Enter the elements in List: 5\n",
      "Enter the elements in List: 1\n",
      "Enter the elements in List: 4\n",
      "Enter the elements in List: 6\n",
      "Enter the elements in List: 7\n",
      "Enter the elements in List: 8\n"
     ]
    },
    {
     "name": "stdout",
     "output_type": "stream",
     "text": [
      "the largest element i: 7\n"
     ]
    }
   ],
   "source": [
    "List=[]\n",
    "n=int(input(\"Enter the elements in List:\"))\n",
    "for i in range(1,n+1):\n",
    "    element = int(input(\"Enter the elements in List:\"))\n",
    "    List.append(element)\n",
    "def largest_number(List):\n",
    "    List.sort()\n",
    "    print(\"the Second largest element i:\",List[-2])\n",
    "largest_number(List)\n",
    "                  "
   ]
  },
  {
   "cell_type": "code",
   "execution_count": 6,
   "id": "d001551d-bae5-4163-aa9c-e4892612e53c",
   "metadata": {},
   "outputs": [
    {
     "name": "stdout",
     "output_type": "stream",
     "text": [
      "file not found\n"
     ]
    }
   ],
   "source": [
    "try:\n",
    "    f= open(r\"C:\\Users\\Pccoe\\Desktop\\123b5f138\\one.txt\",\"r\")\n",
    "    cont = f.read()\n",
    "    num= cont.split()\n",
    "    print(\"content of file:\",cont)\n",
    "    print(\"number of words:\",len(num))\n",
    "except:\n",
    "    print(\"file not found\")"
   ]
  },
  {
   "cell_type": "code",
   "execution_count": null,
   "id": "380d8896-7e05-4073-a4ea-39b10e07a9c5",
   "metadata": {},
   "outputs": [],
   "source": []
  }
 ],
 "metadata": {
  "kernelspec": {
   "display_name": "Python 3 (ipykernel)",
   "language": "python",
   "name": "python3"
  },
  "language_info": {
   "codemirror_mode": {
    "name": "ipython",
    "version": 3
   },
   "file_extension": ".py",
   "mimetype": "text/x-python",
   "name": "python",
   "nbconvert_exporter": "python",
   "pygments_lexer": "ipython3",
   "version": "3.12.4"
  }
 },
 "nbformat": 4,
 "nbformat_minor": 5
}
