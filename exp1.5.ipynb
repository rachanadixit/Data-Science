{
 "cells": [
  {
   "cell_type": "code",
   "execution_count": 1,
   "id": "6a92b090-17b1-49a6-9321-1060fb382b66",
   "metadata": {},
   "outputs": [
    {
     "name": "stdout",
     "output_type": "stream",
     "text": [
      "Pandas Series:  Series([], dtype: object)\n",
      "Pandas Series:\n",
      " 0    r\n",
      "1    a\n",
      "2    c\n",
      "3    h\n",
      "4    a\n",
      "5    n\n",
      "6    a\n",
      "dtype: object\n"
     ]
    }
   ],
   "source": [
    "import pandas as pd \n",
    "import numpy as np\n",
    "\n",
    " \n",
    "ser = pd.Series() \n",
    "print(\"Pandas Series: \", ser) \n",
    "\n",
    " \n",
    "data = np.array(['r', 'a', 'c', 'h', 'a','n','a']) \n",
    "  \n",
    "ser = pd.Series(data) \n",
    "print(\"Pandas Series:\\n\", ser)\n"
   ]
  },
  {
   "cell_type": "code",
   "execution_count": 31,
   "id": "a1313185-fdc9-4d63-8886-28ada2094d0e",
   "metadata": {},
   "outputs": [
    {
     "name": "stdout",
     "output_type": "stream",
     "text": [
      "       fruits availability Rate/kg\n",
      "1       mango          yes     500\n",
      "2     oranges           no     450\n",
      "3  strawberry          yes     600\n"
     ]
    }
   ],
   "source": [
    "import pandas as pd \n",
    "\n",
    "data = [{'fruits': 'mango', 'availability':'yes','Rate/kg':'500'}, \n",
    "\t\t{'fruits':'oranges', 'availability':'no','Rate/kg':'450'},\n",
    "        {'fruits': 'strawberry', 'availability':'yes','Rate/kg':'600'}] \n",
    "\n",
    "df = pd.DataFrame.from_records(data,index=['1', '2','3']) \n",
    "print(df)\n",
    "\n"
   ]
  },
  {
   "cell_type": "code",
   "execution_count": 34,
   "id": "acf48852-917c-4518-afc9-9cd8db5e6138",
   "metadata": {},
   "outputs": [],
   "source": [
    "import pandas as pd \n",
    "data = {\n",
    "    'Fruits': ['mango', 'orange', 'strawberry', 'grapes', 'kiwi'],\n",
    "    'rate': [240, 300,400 , 500, 300],\n",
    "    'availability': ['yes', 'yes', 'no', 'yes', 'no']\n",
    "}\n",
    "\n",
    "df = pd.DataFrame(data)"
   ]
  },
  {
   "cell_type": "code",
   "execution_count": null,
   "id": "710c2118-3b40-47bc-b3f8-dc2c9689fdb1",
   "metadata": {},
   "outputs": [],
   "source": []
  }
 ],
 "metadata": {
  "kernelspec": {
   "display_name": "Python 3 (ipykernel)",
   "language": "python",
   "name": "python3"
  },
  "language_info": {
   "codemirror_mode": {
    "name": "ipython",
    "version": 3
   },
   "file_extension": ".py",
   "mimetype": "text/x-python",
   "name": "python",
   "nbconvert_exporter": "python",
   "pygments_lexer": "ipython3",
   "version": "3.12.4"
  }
 },
 "nbformat": 4,
 "nbformat_minor": 5
}
