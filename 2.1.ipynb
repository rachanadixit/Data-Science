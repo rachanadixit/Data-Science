{
 "cells": [
  {
   "cell_type": "code",
   "execution_count": 18,
   "id": "71528d31-aa7b-43bf-8fbf-1309b435fe90",
   "metadata": {},
   "outputs": [
    {
     "name": "stdout",
     "output_type": "stream",
     "text": [
      "           PatientId  AppointmentID Gender ScheduledDay AppointmentDay  Age  \\\n",
      "0       2.987250e+13        5642903      F   2016-04-29     2016-04-29   62   \n",
      "1       5.589978e+14        5642503      M   2016-04-29     2016-04-29   56   \n",
      "2       4.262962e+12        5642549      F   2016-04-29     2016-04-29   62   \n",
      "3       8.679512e+11        5642828      F   2016-04-29     2016-04-29    8   \n",
      "4       8.841186e+12        5642494      F   2016-04-29     2016-04-29   56   \n",
      "...              ...            ...    ...          ...            ...  ...   \n",
      "106982  2.572134e+12        5651768      F   2016-05-03     2016-06-07   56   \n",
      "106983  3.596266e+12        5650093      F   2016-05-03     2016-06-07   51   \n",
      "106984  1.557663e+13        5630692      F   2016-04-27     2016-06-07   21   \n",
      "106985  9.213493e+13        5630323      F   2016-04-27     2016-06-07   38   \n",
      "106986  3.775115e+14        5629448      F   2016-04-27     2016-06-07   54   \n",
      "\n",
      "            Neighbourhood  Scholarship  Hipertension  Diabetes  Alcoholism  \\\n",
      "0         JARDIM DA PENHA        False          True     False       False   \n",
      "1         JARDIM DA PENHA        False         False     False       False   \n",
      "2           MATA DA PRAIA        False         False     False       False   \n",
      "3       PONTAL DE CAMBURI        False         False     False       False   \n",
      "4         JARDIM DA PENHA        False          True      True       False   \n",
      "...                   ...          ...           ...       ...         ...   \n",
      "106982        MARIA ORTIZ        False         False     False       False   \n",
      "106983        MARIA ORTIZ        False         False     False       False   \n",
      "106984        MARIA ORTIZ        False         False     False       False   \n",
      "106985        MARIA ORTIZ        False         False     False       False   \n",
      "106986        MARIA ORTIZ        False         False     False       False   \n",
      "\n",
      "        Handcap  SMS_received  Showed_up  Date.diff  \n",
      "0         False         False       True          0  \n",
      "1         False         False       True          0  \n",
      "2         False         False       True          0  \n",
      "3         False         False       True          0  \n",
      "4         False         False       True          0  \n",
      "...         ...           ...        ...        ...  \n",
      "106982    False          True       True         35  \n",
      "106983    False          True       True         35  \n",
      "106984    False          True       True         41  \n",
      "106985    False          True       True         41  \n",
      "106986    False          True       True         41  \n",
      "\n",
      "[106987 rows x 15 columns]\n"
     ]
    }
   ],
   "source": [
    "import pandas as pd\n",
    "\n",
    "df = pd.read_csv('C:\\\\Users\\\\Pccoe\\\\Downloads\\\\health.csv')\n",
    "\n",
    "print(df)"
   ]
  },
  {
   "cell_type": "code",
   "execution_count": 19,
   "id": "689fd16b-a4f6-4c56-925c-5c5a2ad713d2",
   "metadata": {},
   "outputs": [
    {
     "name": "stdout",
     "output_type": "stream",
     "text": [
      "      PatientId  AppointmentID Gender ScheduledDay AppointmentDay  Age  \\\n",
      "0  2.987250e+13        5642903      F   2016-04-29     2016-04-29   62   \n",
      "1  5.589978e+14        5642503      M   2016-04-29     2016-04-29   56   \n",
      "2  4.262962e+12        5642549      F   2016-04-29     2016-04-29   62   \n",
      "3  8.679512e+11        5642828      F   2016-04-29     2016-04-29    8   \n",
      "4  8.841186e+12        5642494      F   2016-04-29     2016-04-29   56   \n",
      "\n",
      "       Neighbourhood  Scholarship  Hipertension  Diabetes  Alcoholism  \\\n",
      "0    JARDIM DA PENHA        False          True     False       False   \n",
      "1    JARDIM DA PENHA        False         False     False       False   \n",
      "2      MATA DA PRAIA        False         False     False       False   \n",
      "3  PONTAL DE CAMBURI        False         False     False       False   \n",
      "4    JARDIM DA PENHA        False          True      True       False   \n",
      "\n",
      "   Handcap  SMS_received  Showed_up  Date.diff  \n",
      "0    False         False       True          0  \n",
      "1    False         False       True          0  \n",
      "2    False         False       True          0  \n",
      "3    False         False       True          0  \n",
      "4    False         False       True          0  \n"
     ]
    }
   ],
   "source": [
    "import pandas as pd\n",
    "\n",
    "df = pd.read_csv('C:\\\\Users\\\\Pccoe\\\\Downloads\\\\health.csv')\n",
    "\n",
    "print(df.head())"
   ]
  },
  {
   "cell_type": "code",
   "execution_count": 27,
   "id": "88991b80-6132-4c21-8227-042d4c964c07",
   "metadata": {},
   "outputs": [
    {
     "name": "stdout",
     "output_type": "stream",
     "text": [
      "                                                    quiz\n",
      "sport  {'q1': {'question': 'Which one is correct team...\n",
      "maths  {'q1': {'question': '5 + 7 = ?', 'options': ['...\n"
     ]
    }
   ],
   "source": [
    "import pandas as pd\n",
    "\n",
    "df = pd.read_json('C:\\\\Users\\\\Pccoe\\\\Downloads\\\\dwsample2-json.json')\n",
    "\n",
    "print(df)"
   ]
  },
  {
   "cell_type": "code",
   "execution_count": 28,
   "id": "5958200b-6100-4449-911c-1a5695730b41",
   "metadata": {},
   "outputs": [
    {
     "name": "stdout",
     "output_type": "stream",
     "text": [
      "                                                    quiz\n",
      "sport  {'q1': {'question': 'Which one is correct team...\n",
      "maths  {'q1': {'question': '5 + 7 = ?', 'options': ['...\n"
     ]
    }
   ],
   "source": [
    "import pandas as pd\n",
    "\n",
    "df = pd.read_json('C:\\\\Users\\\\Pccoe\\\\Downloads\\\\dwsample2-json.json')\n",
    "\n",
    "print(df.head())"
   ]
  },
  {
   "cell_type": "code",
   "execution_count": null,
   "id": "60de0d1c-5491-4890-8514-24dc7e323a6d",
   "metadata": {},
   "outputs": [],
   "source": []
  }
 ],
 "metadata": {
  "kernelspec": {
   "display_name": "Python 3 (ipykernel)",
   "language": "python",
   "name": "python3"
  },
  "language_info": {
   "codemirror_mode": {
    "name": "ipython",
    "version": 3
   },
   "file_extension": ".py",
   "mimetype": "text/x-python",
   "name": "python",
   "nbconvert_exporter": "python",
   "pygments_lexer": "ipython3",
   "version": "3.12.4"
  }
 },
 "nbformat": 4,
 "nbformat_minor": 5
}
