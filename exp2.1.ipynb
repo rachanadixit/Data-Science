{
 "cells": [
  {
   "cell_type": "code",
   "execution_count": 3,
   "id": "0c4ef1f6-40b9-473c-aaba-1c5a8cbeebc8",
   "metadata": {},
   "outputs": [
    {
     "name": "stdout",
     "output_type": "stream",
     "text": [
      "3.41.2\n"
     ]
    }
   ],
   "source": [
    "import sqlite3\n",
    "\n",
    "def create_sqlite_in_memory():\n",
    "    \"\"\" create a database connection to a database that resides\n",
    "        in the memory\n",
    "    \"\"\"\n",
    "    conn = None\n",
    "    try:\n",
    "        conn = sqlite3.connect(':memory:')\n",
    "        print(sqlite3.sqlite_version)\n",
    "    except sqlite3.Error as e:\n",
    "        print(e)\n",
    "    finally:\n",
    "        if conn:\n",
    "            conn.close()\n",
    "\n",
    "\n",
    "if __name__ == '__main__':\n",
    "    create_sqlite_in_memory()"
   ]
  },
  {
   "cell_type": "code",
   "execution_count": null,
   "id": "0629f2ab-aa8d-43de-b59f-18d84da4ddd2",
   "metadata": {},
   "outputs": [],
   "source": []
  },
  {
   "cell_type": "code",
   "execution_count": 4,
   "id": "c4b8e454-2c2a-4769-ba15-844a5d3a6b1b",
   "metadata": {},
   "outputs": [
    {
     "name": "stdout",
     "output_type": "stream",
     "text": [
      "Table is Ready\n"
     ]
    }
   ],
   "source": [
    "import sqlite3\n",
    "\n",
    "# Connecting to sqlite\n",
    "# connection object\n",
    "connection_obj = sqlite3.connect('geek.db')\n",
    "\n",
    "# cursor object\n",
    "cursor_obj = connection_obj.cursor()\n",
    "\n",
    "# Drop the GEEK table if already exists.\n",
    "cursor_obj.execute(\"DROP TABLE IF EXISTS GEEK\")\n",
    "\n",
    "# Creating table\n",
    "table = \"\"\" CREATE TABLE GEEK (\n",
    "\t\t\tEmail VARCHAR(255) NOT NULL,\n",
    "\t\t\tFirst_Name CHAR(25) NOT NULL,\n",
    "\t\t\tLast_Name CHAR(25),\n",
    "\t\t\tScore INT\n",
    "\t\t); \"\"\"\n",
    "\n",
    "cursor_obj.execute(table)\n",
    "\n",
    "print(\"Table is Ready\")\n",
    "\n",
    "# Close the connection\n",
    "connection_obj.close()\n"
   ]
  },
  {
   "cell_type": "code",
   "execution_count": 12,
   "id": "01ec392d-cbe3-4879-9be9-b523b0d095e8",
   "metadata": {},
   "outputs": [
    {
     "name": "stdout",
     "output_type": "stream",
     "text": [
      "Data Inserted in the table: \n",
      "('RACHANA', '12th', 'A')\n",
      "('ROHAN', 'SY', 'B')\n",
      "('MOHAN', 'TY', 'C')\n"
     ]
    }
   ],
   "source": [
    "# Import module \n",
    "import sqlite3 \n",
    "\n",
    "# Connecting to sqlite \n",
    "conn = sqlite3.connect('MY.db') \n",
    "\n",
    "# Creating a cursor object using the \n",
    "# cursor() method \n",
    "cursor = conn.cursor() \n",
    "\n",
    "# Creating table \n",
    "table =\"\"\"CREATE TABLE STUDENT(NAME VARCHAR(255), CLASS VARCHAR(255), \n",
    "SECTION VARCHAR(255));\"\"\"\n",
    "cursor.execute(table) \n",
    "\n",
    "# Queries to INSERT records. \n",
    "cursor.execute('''INSERT INTO STUDENT VALUES ('RACHANA', '12th', 'A')''') \n",
    "cursor.execute('''INSERT INTO STUDENT VALUES ('ROHAN', 'SY', 'B')''') \n",
    "cursor.execute('''INSERT INTO STUDENT VALUES ('MOHAN', 'TY', 'C')''') \n",
    "\n",
    "# Display data inserted \n",
    "print(\"Data Inserted in the table: \") \n",
    "data=cursor.execute('''SELECT * FROM STUDENT''') \n",
    "for row in data: \n",
    "\tprint(row) \n",
    "\n",
    "# Commit your changes in the database\t \n",
    "conn.commit() \n",
    "\n",
    "# Closing the connection \n",
    "conn.close()\n"
   ]
  },
  {
   "cell_type": "code",
   "execution_count": null,
   "id": "704d5e43-d264-4ff6-9288-f298c21b559c",
   "metadata": {},
   "outputs": [],
   "source": []
  }
 ],
 "metadata": {
  "kernelspec": {
   "display_name": "Python 3 (ipykernel)",
   "language": "python",
   "name": "python3"
  },
  "language_info": {
   "codemirror_mode": {
    "name": "ipython",
    "version": 3
   },
   "file_extension": ".py",
   "mimetype": "text/x-python",
   "name": "python",
   "nbconvert_exporter": "python",
   "pygments_lexer": "ipython3",
   "version": "3.11.7"
  }
 },
 "nbformat": 4,
 "nbformat_minor": 5
}
